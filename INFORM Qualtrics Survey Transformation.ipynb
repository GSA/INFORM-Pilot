{
 "cells": [
  {
   "cell_type": "code",
   "execution_count": 1,
   "metadata": {},
   "outputs": [],
   "source": [
    "import pandas as pd\n",
    "import re\n",
    "import os\n",
    "import glob"
   ]
  },
  {
   "cell_type": "code",
   "execution_count": 2,
   "metadata": {},
   "outputs": [],
   "source": [
    "def get_filenames(path):\n",
    "    '''\n",
    "    Given a file path with wildcard for extension, capture all filenames.\n",
    "    '''\n",
    "    \n",
    "    file_list = []\n",
    "    file_list = glob.glob(path)\n",
    "    \n",
    "    return file_list   "
   ]
  },
  {
   "cell_type": "code",
   "execution_count": 3,
   "metadata": {},
   "outputs": [],
   "source": [
    "def get_df_names(path):\n",
    "    '''\n",
    "    Given a list of filenames, capture the relevent portion of filename to make dataframe names.\n",
    "    '''    \n",
    "    \n",
    "    df_list = []\n",
    "    for filename in file_list:\n",
    "        name = os.path.basename(filename)\n",
    "        name = name.split('- ')[1]\n",
    "        name = name.split('_')[0]\n",
    "        name_df = name.replace(\" \", \"_\") + '_df'\n",
    "        df_list.append(name_df)\n",
    "        \n",
    "    return df_list"
   ]
  },
  {
   "cell_type": "code",
   "execution_count": 4,
   "metadata": {},
   "outputs": [],
   "source": [
    "def create_df(path, index_number):\n",
    "    '''\n",
    "    Given a file path and index number, create a dataframe for the index file with the index dataframe name.\n",
    "    Create a Source column in the dataframe indicating the Source document. \n",
    "    '''   \n",
    "    file_list = get_filenames(path)\n",
    "    df_list = get_df_names(path)\n",
    "    df_name = df_list[index_number]\n",
    "    file_name = file_list[index_number]\n",
    "    source_name = file_list[index_number]\n",
    "    source_name = source_name.split('- ')[1]\n",
    "    source_name = source_name.split('_')[0]\n",
    "    \n",
    "    df_name = pd.read_csv(file_name,low_memory=False,skiprows=[0,2])\n",
    "    df_name['Source'] = source_name\n",
    "    \n",
    "    return df_name"
   ]
  },
  {
   "cell_type": "code",
   "execution_count": 5,
   "metadata": {},
   "outputs": [],
   "source": [
    "file_list = get_filenames(\"data/*.csv\")"
   ]
  },
  {
   "cell_type": "code",
   "execution_count": 6,
   "metadata": {},
   "outputs": [],
   "source": [
    "df_list = get_df_names(\"data/*.csv\")"
   ]
  },
  {
   "cell_type": "code",
   "execution_count": 7,
   "metadata": {},
   "outputs": [],
   "source": [
    "Acquisition_Workforce_df = create_df(\"data/*.csv\", 0)"
   ]
  },
  {
   "cell_type": "code",
   "execution_count": 8,
   "metadata": {},
   "outputs": [],
   "source": [
    "Control_Group_df = create_df(\"data/*.csv\", 1)"
   ]
  },
  {
   "cell_type": "code",
   "execution_count": 9,
   "metadata": {},
   "outputs": [],
   "source": [
    "Test_Group_df = create_df(\"data/*.csv\", 2)"
   ]
  },
  {
   "cell_type": "code",
   "execution_count": 10,
   "metadata": {},
   "outputs": [],
   "source": [
    "def reshape_df(df, index_number, path):\n",
    "    '''\n",
    "    Given a dataframe, index number, and path, reshape the specified dataframe from wide to long, with ID Columns\n",
    "    specified and Value Columns the remaining columns in initial dataframe. \n",
    "    '''   \n",
    "\n",
    "    df_list = get_df_names(path)\n",
    "    id_cols = {'Source', 'Start Date', 'End Date', 'Response Type', 'IP Address',\n",
    "                  'Progress', 'Duration (in seconds)', 'Finished', 'Recorded Date',\n",
    "                  'Response ID', 'Recipient Last Name', 'Recipient First Name',\n",
    "                  'Recipient Email', 'External Data Reference', 'Location Latitude',\n",
    "                  'Location Longitude', 'Distribution Channel', 'User Language'}\n",
    "    value_cols = set(df.columns) - id_cols\n",
    "    melted_df = df_list[index_number]\n",
    "    \n",
    "    melted_df = pd.melt(df, \n",
    "                       id_vars=list(id_cols), \n",
    "                       value_vars=list(value_cols),\n",
    "                       var_name='Question', \n",
    "                       value_name='Response')\n",
    "    \n",
    "    return melted_df    "
   ]
  },
  {
   "cell_type": "code",
   "execution_count": 11,
   "metadata": {},
   "outputs": [],
   "source": [
    "Acquisition_Workforce_melted = reshape_df(Acquisition_Workforce_df,0,\"data/*.csv\")"
   ]
  },
  {
   "cell_type": "code",
   "execution_count": 12,
   "metadata": {},
   "outputs": [],
   "source": [
    "Control_Group_melted = reshape_df(Control_Group_df,0,\"data/*.csv\")"
   ]
  },
  {
   "cell_type": "code",
   "execution_count": 13,
   "metadata": {},
   "outputs": [],
   "source": [
    "Test_Group_melted = reshape_df(Test_Group_df,0,\"data/*.csv\")"
   ]
  },
  {
   "cell_type": "code",
   "execution_count": 14,
   "metadata": {},
   "outputs": [],
   "source": [
    "def merge_df(df1, df2, df3):\n",
    "    final_df = pd.concat([df1,df2,df3], axis=0, ignore_index=True)\n",
    "    \n",
    "    return final_df"
   ]
  },
  {
   "cell_type": "code",
   "execution_count": 15,
   "metadata": {},
   "outputs": [],
   "source": [
    "final_df = merge_df(Acquisition_Workforce_melted,\n",
    "        Control_Group_melted,\n",
    "        Test_Group_melted)"
   ]
  },
  {
   "cell_type": "code",
   "execution_count": 16,
   "metadata": {},
   "outputs": [],
   "source": [
    "final_df.to_excel(\"final_output.xlsx\", engine='openpyxl')"
   ]
  }
 ],
 "metadata": {
  "anaconda-cloud": {},
  "kernelspec": {
   "display_name": "Python 3",
   "language": "python",
   "name": "python3"
  },
  "language_info": {
   "codemirror_mode": {
    "name": "ipython",
    "version": 3
   },
   "file_extension": ".py",
   "mimetype": "text/x-python",
   "name": "python",
   "nbconvert_exporter": "python",
   "pygments_lexer": "ipython3",
   "version": "3.7.3"
  }
 },
 "nbformat": 4,
 "nbformat_minor": 1
}
