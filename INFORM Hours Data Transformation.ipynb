{
 "cells": [
  {
   "cell_type": "code",
   "execution_count": 1,
   "metadata": {},
   "outputs": [],
   "source": [
    "import pandas as pd\n",
    "import re\n",
    "import os\n",
    "import glob"
   ]
  },
  {
   "cell_type": "code",
   "execution_count": 2,
   "metadata": {},
   "outputs": [],
   "source": [
    "def get_filenames(path):\n",
    "    '''\n",
    "    Given a file path with wildcard for extension, capture all filenames.\n",
    "    '''\n",
    "    \n",
    "    file_list = []\n",
    "    file_list = glob.glob(path)\n",
    "    \n",
    "    return file_list   "
   ]
  },
  {
   "cell_type": "code",
   "execution_count": 3,
   "metadata": {},
   "outputs": [],
   "source": [
    "file_list = get_filenames(\"data/*.xlsx\")"
   ]
  },
  {
   "cell_type": "code",
   "execution_count": 4,
   "metadata": {},
   "outputs": [
    {
     "data": {
      "text/plain": [
       "['data\\\\Copy of Acquisition Workforce Feedback Report-TEST Projects (Responses).xlsx',\n",
       " 'data\\\\INFORM Pilot Projects.xlsx',\n",
       " 'data\\\\INFORM Workforce Feedback Report Control Projects (Responses).xlsx']"
      ]
     },
     "execution_count": 4,
     "metadata": {},
     "output_type": "execute_result"
    }
   ],
   "source": [
    "file_list"
   ]
  },
  {
   "cell_type": "code",
   "execution_count": 5,
   "metadata": {},
   "outputs": [],
   "source": [
    "test_projects_df  = pd.read_excel('data\\\\INFORM Pilot Projects.xlsx', sheet_name = 'Test Group')"
   ]
  },
  {
   "cell_type": "code",
   "execution_count": 6,
   "metadata": {},
   "outputs": [],
   "source": [
    "test_projects_df['Group Type'] = 'Test Group'"
   ]
  },
  {
   "cell_type": "code",
   "execution_count": 7,
   "metadata": {},
   "outputs": [],
   "source": [
    "test_projects_df = test_projects_df.rename(index=str, columns={\n",
    "        \"FAS Procurement Status\\n(provide planned solicitation date, closing date, etc.)\\n\":\"FAS Procurement Status\",\n",
    "        'PBS Estimated Award Date \\n(provide specific date if possible -- if not put \"TBD\")': \"PBS Estimated Award Date\",\n",
    "        \"PBS Procurement Status\\n(provide planned solicitation date, closing date, etc.)\\n(provide brief description of any obstacles, issues, etc.)\": \"PBS Procurement Status\"\n",
    "    })"
   ]
  },
  {
   "cell_type": "code",
   "execution_count": 8,
   "metadata": {},
   "outputs": [],
   "source": [
    "control_projects_df  = pd.read_excel('data\\\\INFORM Pilot Projects.xlsx', sheet_name = 'Control Group')"
   ]
  },
  {
   "cell_type": "code",
   "execution_count": 9,
   "metadata": {},
   "outputs": [],
   "source": [
    "control_projects_df['Group Type'] = 'Control Group'"
   ]
  },
  {
   "cell_type": "code",
   "execution_count": 10,
   "metadata": {},
   "outputs": [],
   "source": [
    "control_projects_df = control_projects_df.rename(index=str, columns={\n",
    "        \"ri\": \"Service\",\n",
    "        'PBS Estimated Award Date \\n(provide specific date if possible -- if not put \"TBD\")': \"PBS Estimated Award Date\",\n",
    "        \"PBS Procurement Status\\n(provide planned solicitation date, closing date, etc.)\\n(provide brief description of any obstacles, issues, etc.)\": \"PBS Procurement Status\"\n",
    "    })"
   ]
  },
  {
   "cell_type": "code",
   "execution_count": 11,
   "metadata": {},
   "outputs": [],
   "source": [
    "INFORM_projects_df = control_projects_df.append(test_projects_df, sort=False)"
   ]
  },
  {
   "cell_type": "code",
   "execution_count": 12,
   "metadata": {},
   "outputs": [],
   "source": [
    "INFORM_projects_df.to_excel('INFORM Projects.xlsx')"
   ]
  },
  {
   "cell_type": "code",
   "execution_count": 13,
   "metadata": {},
   "outputs": [],
   "source": [
    "test_hours_df = pd.read_excel('data\\\\Copy of Acquisition Workforce Feedback Report-TEST Projects (Responses).xlsx')\n",
    "test_hours_df['Group Type'] = 'Test Group'"
   ]
  },
  {
   "cell_type": "code",
   "execution_count": 14,
   "metadata": {},
   "outputs": [],
   "source": [
    "control_hours_df = pd.read_excel('data\\\\INFORM Workforce Feedback Report Control Projects (Responses).xlsx')\n",
    "control_hours_df['Group Type'] = 'Control Group'"
   ]
  },
  {
   "cell_type": "code",
   "execution_count": 15,
   "metadata": {},
   "outputs": [],
   "source": [
    "test_hours_df = test_hours_df.rename(index=str, columns={\n",
    "        \"Solicitation Number  \": \"Solicitation Number\",\n",
    "        \"Date of Award  (to be completed by Contracting Officers Only.  If not Contracting Officer Enter 10/01/2018 \": \"Date of Award\",\n",
    "        \"Point of Contact (name of person who is completing survey)\": \"Point of Contact\",\n",
    "        \"Position of Person Completing Survey\": \"POC Position\",\n",
    "        \"NLES-Number of Hours Spent Preparing and Delivering   (E.G. 1.5 HRS)\":\"NLES: Hours\",\n",
    "        \"NLES-Number of NLES Sent (to be completed by Contracting Officers Only. Put 0 if not Contracting Officer\":\"NLES: Number Sent\",\n",
    "        \"On average Were NLS Issued Within 3 Business Days of Award?  (to be completed by Contracting Officers Only. Put NA if not Contracting Officer\":\"On average Were NLS Issued Within 3 Business Days of Award?\",\n",
    "        \"Provide Offeror(s) Information DUNS Number and Company Name for All Offerors (awardee and non awardees)  (to be completed by Contracting Officers Only. Put 0 if not Contracting Officer\":\"DUNS Number and Company Name for All Offerors\",\n",
    "        \"Provide PIID Award Number for Each Awardee  (to be completed by Contracting Officers Only. Put NA if not Contracting Officer\":\"PIID Award Number for Each Awardee\",\n",
    "        \"Was There a Protest  (to be completed by Contracting Officers Only. Put NA if not Contracting Officers\":\"Protest?\",\n",
    "        \"Number of Offerors Submitting Written Questions.   Put 0 if not Contracting Officers\":\"Number of Offerors Submitting Written Questions\",\n",
    "        \"On average Written Questions  Answered within 5 Business Days of Request?  (to be completed by Contracting Officers Only. Put NA if not Contracting Officer\":\"Written Questions Answered within 5 Business Days of Request?\",\n",
    "        \"Number of Offerors Submitting Post Oral Feedback Meeting Questions  (to be completed by Contracting Officers Only. Put 0 if not Contracting Officer\":\"Number of Offerors Submitting Post Oral Feedback Meeting Questions\",\n",
    "        \"Number of Hours Spent Preparing and Delivering  (E.G. 1.5 HRS)\":\"Number of Hours Spent Preparing and Delivering Post Oral Feedback Meeting Questions Responses\",\n",
    "        \"On Average Were Post Oral Feedback Written Questions Answered Within 5 Business Days  (to be completed by Contracting Officers Only. Put NA if not Contracting Officer\":\"On Average Were Post Oral Feedback Written Questions Answered Within 5 Business Days\",\n",
    "        \"Oral Feedback Meeting-Number of Hours Spent Preparing and Conducting   (E.G. 1.5 HRS)\":\"Oral Feedback Meeting-Number of Hours Spent Preparing and Conducting\",\n",
    "        \"Numbers of Offerors Requesting Oral Feedback Meeting  (to be completed by Contracting Officers Only. Put 0 if not Contracting Officer\":\"Numbers of Offerors Requesting Oral Feedback Meeting\",\n",
    "        \"Number of Hours Spent Preparing and Delivering  (E.G. 1.5 HRS).1\":\"Number of Hours Spent Preparing and Delivering Oral Feedback Meeting\",\n",
    "        \"On Average Were  Oral Feedback Written Questions Answered Within 5 Business Days  (to be completed by Contracting Officers Only. Put NA if not Contracting Officer\":\"On Average Were Oral Feedback Written Questions Answered Within 5 Business Days\",\n",
    "        \"Modification number , if applicable (to be completed by Contracting Officers Only. Put 0 if not Contracting Officer\":\"Modification number\",\n",
    "        \"Provide REF_IDV_PIID Number for each Awardee  (to be completed by Contracting Officers Only. Put 0 if not Contracting Officer\":\"REF_IDV_PIID Number for each Awardee\",\n",
    "        \"Actual Amount of Award (Obligated) (to be completed by Contracting Officers  Only. Put 0 if not Contracting Officer\":\"Actual Amount of Award (Obligated)\",\n",
    "        \"Contracting Office (to be completed by Contracting Officers  Only. Put 0 if not Contracting Officer\":\"Contracting Office\",\n",
    "        \"Number of  Written Questions Submitted and Answered\":\"Number of Written Questions Received\",\n",
    "        \"Choose the Reporting Quarter\":\"Reporting Quarter\",\n",
    "        \"Number of Offerors who responded to solicitation\":\"Number of Offerors\",\n",
    "        \"Name of Solicitatio\":\"Name of Solicitation\"\n",
    "    })"
   ]
  },
  {
   "cell_type": "code",
   "execution_count": 16,
   "metadata": {},
   "outputs": [],
   "source": [
    "test_hours_df = test_hours_df.drop(['Unnamed: 18','Unnamed: 22','Unnamed: 38'], axis=1)"
   ]
  },
  {
   "cell_type": "code",
   "execution_count": 17,
   "metadata": {},
   "outputs": [],
   "source": [
    "control_hours_df = control_hours_df.rename(index=str, columns={\n",
    "        \"Solicitation Number \": \"Solicitation Number\",\n",
    "        \"Contracting Office Number  (Contracting officer (will complete) Put 0 if not Contracting Officer\": \"Contracting Office\",\n",
    "        \"Date of Award (to be completed by Contracting Officer (CO) only) Put 10/01/2018 if you are not the CO\": \"Date of Award\",\n",
    "        \"Point of Contact (name of person completing form)\": \"Point of Contact\",\n",
    "        \"Position of Person Completing Survey\": \"POC Position\",\n",
    "        \"Indicate which Quarter the Project is Reporting \": \"Reporting Quarter\",\n",
    "        \"Provide Offeror(s) Information DUNS Number and Company Name for All Offerors (awardee and non awardees)  (to be completed by Contracting OfficersOnly. Put 0 if not Contracting Officer\":\"DUNS Number and Company Name for All Offerors\",\n",
    "        \"Provide PIID Award Number for Each Awardee  (to be completed by Contracting Officers Only. Put NA if not Contracting Officer\":\"PIID Award Number for Each Awardee\",\n",
    "        \"Was There a Protest  (to be completed by Contracting Officers Only. Put NA if not Contracting Officer\":\"Protest?\",\n",
    "        \"Modification number , if applicable   (to be completed by Contracting Officers Only. Put 0 if not Contracting Officer\":\"Modification number\",\n",
    "        \"Provide REF_IDV_PIID Number for each Awardee  (to be completed Contracting Officer only) Put 0 if not Contracting Officer\":\"REF_IDV_PIID Number for each Awardee\",\n",
    "        \"Actual Amount of Award (Obligated)  (to be completed by Contracting Officers Only. Put 0 if not Contracting Officer\":\"Actual Amount of Award (Obligated)\",\n",
    "        \"Solicitation Name as indicated in project list. Contracting Officer to complete only\":\"Name of Solicitation\",\n",
    "        \"Provide PIID Award Number for Each Awardee  (to be completed by Contracting Officers Only. Put 0 if not Contracting Officer\":\"PIID Award Number for Each Awardee\",\n",
    "        \"Notification of Award Letter-Number of Hours Spent Preparing and Delivering   (to be completed by Contracting Officers only) all others put 0 if not Contracting Officer\":\"Notification of Award Letter-Number of Hours Spent Preparing and Delivering\",\n",
    "        \"Number of Notification of Award Letter Sent (to be completed by Contracting Officers only.  If not Contracting Officer put in 0\":\"Number of Notification of Award Letter Sent\",\n",
    "        \"On average Were Notification of Award Letter  Issued Within 3 Calendar Days of Award?  (to be completed by Contracting Officers Only. Put NA if not CO/CS\":\"On average Were Notification of Award Letter Issued Within 3 Calendar Days of Award?\",\n",
    "        \"Number of Written Questions Received (do not count duplicate questions )\":\"Number of Written Questions Received\",\n",
    "        \"Number of Offeror's requesting debriefs or explanations (to be completed by Contracting Officer (CO).  If not Contracting Officer  enter 0\":\"Number of Offeror's requesting debriefs or explanations\",\n",
    "        \"Number of Hours Spent Preparing and Conducting  to be completed by all\":\"Number of Hours Spent Preparing and Conducting debriefs or explanations\",\n",
    "        \"On average Were Oral Debriefs or Explanations Held Within 5 Business Days of Request?  (to be completed by Contracting Officers Only. Put 0 if not Contracting Officer\":\"On average Were Oral Debriefs or Explanations Held Within 5 Business Days of Request?\",\n",
    "        \"Number of  Offerors Receiving Written Debrief or Explanation  (to be completed by Contracting Officers Only. Put 0 if not Contracting Officer.\":\"Number of Offerors Receiving Written Debrief or Explanation\",\n",
    "        \"Number of Hours Spent Preparing and Submitting  (E.G. 1.5 HRS)\":\"Number of Hours Spent Preparing and Submitting Written Debrief or Explanation\",\n",
    "        \"On Average Were Written Debriefs Held Within 5 Business Days  (to be completed by Contracting Officers Only. Put NA if not Contracting Officer\":\"On Average Were Written Debriefs Held Within 5 Business Days?\",\n",
    "        \"Number of Offerors to be completed by Contracting Officer only\":\"Number of Offerors\"\n",
    "    })"
   ]
  },
  {
   "cell_type": "code",
   "execution_count": 18,
   "metadata": {},
   "outputs": [
    {
     "name": "stderr",
     "output_type": "stream",
     "text": [
      "C:\\ProgramFiles\\Anaconda3\\lib\\site-packages\\pandas\\core\\frame.py:6692: FutureWarning: Sorting because non-concatenation axis is not aligned. A future version\n",
      "of pandas will change to not sort by default.\n",
      "\n",
      "To accept the future behavior, pass 'sort=False'.\n",
      "\n",
      "To retain the current behavior and silence the warning, pass 'sort=True'.\n",
      "\n",
      "  sort=sort)\n"
     ]
    }
   ],
   "source": [
    "INFORM_hours_df = control_hours_df.append(test_hours_df)"
   ]
  },
  {
   "cell_type": "code",
   "execution_count": 19,
   "metadata": {},
   "outputs": [],
   "source": [
    "INFORM_hours_df.loc[INFORM_hours_df['Timestamp'] == 'This is control group project', 'Group Type'] = 'Control Group'"
   ]
  },
  {
   "cell_type": "code",
   "execution_count": 20,
   "metadata": {},
   "outputs": [],
   "source": [
    "hours_cols = {\"NLES: Hours\",\n",
    "              \"Notification of Award Letter-Number of Hours Spent Preparing and Delivering\",\n",
    "              \"Number of Hours Spent Preparing and Conducting debriefs or explanations\",\n",
    "              \"Number of Hours Spent Preparing and Delivering Oral Feedback Meeting\",\n",
    "              \"Number of Hours Spent Preparing and Delivering Post Oral Feedback Meeting Questions Responses\",\n",
    "              \"Number of Hours Spent Preparing and Submitting Written Debrief or Explanation\",\n",
    "              \"Oral Feedback Meeting-Number of Hours Spent Preparing and Conducting\"}"
   ]
  },
  {
   "cell_type": "code",
   "execution_count": 21,
   "metadata": {},
   "outputs": [],
   "source": [
    "for col in hours_cols:\n",
    "    INFORM_hours_df[col] = INFORM_hours_df[col].astype(str)\n",
    "    INFORM_hours_df[col] = [''.join(re.findall(\"\\d*\\.?\\d+\", item)) for item in INFORM_hours_df[col]]"
   ]
  },
  {
   "cell_type": "code",
   "execution_count": 22,
   "metadata": {},
   "outputs": [],
   "source": [
    "INFORM_hours_df.to_excel('INFORM Hours.xlsx')"
   ]
  },
  {
   "cell_type": "code",
   "execution_count": null,
   "metadata": {},
   "outputs": [],
   "source": []
  }
 ],
 "metadata": {
  "kernelspec": {
   "display_name": "Python 3",
   "language": "python",
   "name": "python3"
  },
  "language_info": {
   "codemirror_mode": {
    "name": "ipython",
    "version": 3
   },
   "file_extension": ".py",
   "mimetype": "text/x-python",
   "name": "python",
   "nbconvert_exporter": "python",
   "pygments_lexer": "ipython3",
   "version": "3.7.3"
  }
 },
 "nbformat": 4,
 "nbformat_minor": 2
}
